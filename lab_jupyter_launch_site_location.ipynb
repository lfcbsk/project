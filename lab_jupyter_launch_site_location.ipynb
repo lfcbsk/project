{
  "cells": [
    {
      "cell_type": "markdown",
      "metadata": {},
      "source": [
        "<p style=\"text-align:center\">\n",
        "    <a href=\"https://skills.network/?utm_medium=Exinfluencer&utm_source=Exinfluencer&utm_content=000026UJ&utm_term=10006555&utm_id=NA-SkillsNetwork-Channel-SkillsNetworkCoursesIBMDS0321ENSkillsNetwork26802033-2022-01-01\" target=\"_blank\">\n",
        "    <img src=\"https://cf-courses-data.s3.us.cloud-object-storage.appdomain.cloud/assets/logos/SN_web_lightmode.png\" width=\"200\" alt=\"Skills Network Logo\">\n",
        "    </a>\n",
        "</p>\n"
      ]
    },
    {
      "cell_type": "markdown",
      "metadata": {},
      "source": [
        "# **Hands-on Lab: Interactive Visual Analytics with Folium**\n"
      ]
    },
    {
      "cell_type": "markdown",
      "metadata": {},
      "source": [
        "Estimated time needed: **40** minutes\n"
      ]
    },
    {
      "cell_type": "markdown",
      "metadata": {},
      "source": [
        "The launch success rate may depend on many factors such as payload mass, orbit type, and so on. It may also depend on the location and proximities of a launch site, i.e., the initial position of rocket trajectories. Finding an optimal location for building a launch site certainly involves many factors and hopefully we could discover some of the factors by analyzing the existing launch site locations.\n"
      ]
    },
    {
      "cell_type": "markdown",
      "metadata": {},
      "source": [
        "In the previous exploratory data analysis labs, you have visualized the SpaceX launch dataset using `matplotlib` and `seaborn` and discovered some preliminary correlations between the launch site and success rates. In this lab, you will be performing more interactive visual analytics using `Folium`.\n"
      ]
    },
    {
      "cell_type": "markdown",
      "metadata": {},
      "source": [
        "## Objectives\n"
      ]
    },
    {
      "cell_type": "markdown",
      "metadata": {},
      "source": [
        "This lab contains the following tasks:\n",
        "\n",
        "*   **TASK 1:** Mark all launch sites on a map\n",
        "*   **TASK 2:** Mark the success/failed launches for each site on the map\n",
        "*   **TASK 3:** Calculate the distances between a launch site to its proximities\n",
        "\n",
        "After completed the above tasks, you should be able to find some geographical patterns about launch sites.\n"
      ]
    },
    {
      "cell_type": "markdown",
      "metadata": {},
      "source": [
        "Let's first import required Python packages for this lab:\n"
      ]
    },
    {
      "cell_type": "code",
      "execution_count": 1,
      "metadata": {},
      "outputs": [],
      "source": [
        "import folium\n",
        "import pandas as pd"
      ]
    },
    {
      "cell_type": "code",
      "execution_count": 2,
      "metadata": {},
      "outputs": [],
      "source": [
        "# Import folium MarkerCluster plugin\n",
        "from folium.plugins import MarkerCluster\n",
        "# Import folium MousePosition plugin\n",
        "from folium.plugins import MousePosition\n",
        "# Import folium DivIcon plugin\n",
        "from folium.features import DivIcon"
      ]
    },
    {
      "cell_type": "markdown",
      "metadata": {},
      "source": [
        "If you need to refresh your memory about folium, you may download and refer to this previous folium lab:\n"
      ]
    },
    {
      "cell_type": "markdown",
      "metadata": {},
      "source": [
        "[Generating Maps with Python](https://cf-courses-data.s3.us.cloud-object-storage.appdomain.cloud/IBMDeveloperSkillsNetwork-DV0101EN-SkillsNetwork/labs/v4/DV0101EN-Exercise-Generating-Maps-in-Python.ipynb)\n"
      ]
    },
    {
      "cell_type": "code",
      "execution_count": 3,
      "metadata": {},
      "outputs": [],
      "source": [
        "## Task 1: Mark all launch sites on a map\n"
      ]
    },
    {
      "cell_type": "markdown",
      "metadata": {},
      "source": [
        "First, let's try to add each site's location on a map using site's latitude and longitude coordinates\n"
      ]
    },
    {
      "cell_type": "markdown",
      "metadata": {},
      "source": [
        "The following dataset with the name `spacex_launch_geo.csv` is an augmented dataset with latitude and longitude added for each site.\n"
      ]
    },
    {
      "cell_type": "code",
      "execution_count": 4,
      "metadata": {},
      "outputs": [],
      "source": [
        "# Download and read the `spacex_launch_geo.csv`\n",
        "# from js import fetch\n",
        "import io\n",
        "\n",
        "URL = 'https://cf-courses-data.s3.us.cloud-object-storage.appdomain.cloud/IBM-DS0321EN-SkillsNetwork/datasets/spacex_launch_geo.csv'\n",
        "# resp = await fetch(URL)\n",
        "# spacex_csv_file = io.BytesIO((await resp.arrayBuffer()).to_py())\n",
        "spacex_df=pd.read_csv(URL)"
      ]
    },
    {
      "cell_type": "markdown",
      "metadata": {},
      "source": [
        "Now, you can take a look at what are the coordinates for each site.\n"
      ]
    },
    {
      "cell_type": "code",
      "execution_count": 5,
      "metadata": {},
      "outputs": [
        {
          "data": {
            "text/html": [
              "<div>\n",
              "<style scoped>\n",
              "    .dataframe tbody tr th:only-of-type {\n",
              "        vertical-align: middle;\n",
              "    }\n",
              "\n",
              "    .dataframe tbody tr th {\n",
              "        vertical-align: top;\n",
              "    }\n",
              "\n",
              "    .dataframe thead th {\n",
              "        text-align: right;\n",
              "    }\n",
              "</style>\n",
              "<table border=\"1\" class=\"dataframe\">\n",
              "  <thead>\n",
              "    <tr style=\"text-align: right;\">\n",
              "      <th></th>\n",
              "      <th>Launch Site</th>\n",
              "      <th>Lat</th>\n",
              "      <th>Long</th>\n",
              "    </tr>\n",
              "  </thead>\n",
              "  <tbody>\n",
              "    <tr>\n",
              "      <th>0</th>\n",
              "      <td>CCAFS LC-40</td>\n",
              "      <td>28.562302</td>\n",
              "      <td>-80.577356</td>\n",
              "    </tr>\n",
              "    <tr>\n",
              "      <th>1</th>\n",
              "      <td>CCAFS SLC-40</td>\n",
              "      <td>28.563197</td>\n",
              "      <td>-80.576820</td>\n",
              "    </tr>\n",
              "    <tr>\n",
              "      <th>2</th>\n",
              "      <td>KSC LC-39A</td>\n",
              "      <td>28.573255</td>\n",
              "      <td>-80.646895</td>\n",
              "    </tr>\n",
              "    <tr>\n",
              "      <th>3</th>\n",
              "      <td>VAFB SLC-4E</td>\n",
              "      <td>34.632834</td>\n",
              "      <td>-120.610745</td>\n",
              "    </tr>\n",
              "  </tbody>\n",
              "</table>\n",
              "</div>"
            ],
            "text/plain": [
              "    Launch Site        Lat        Long\n",
              "0   CCAFS LC-40  28.562302  -80.577356\n",
              "1  CCAFS SLC-40  28.563197  -80.576820\n",
              "2    KSC LC-39A  28.573255  -80.646895\n",
              "3   VAFB SLC-4E  34.632834 -120.610745"
            ]
          },
          "execution_count": 5,
          "metadata": {},
          "output_type": "execute_result"
        }
      ],
      "source": [
        "# Select relevant sub-columns: `Launch Site`, `Lat(Latitude)`, `Long(Longitude)`, `class`\n",
        "spacex_df = spacex_df[['Launch Site', 'Lat', 'Long', 'class']]\n",
        "launch_sites_df = spacex_df.groupby(['Launch Site'], as_index=False).first()\n",
        "launch_sites_df = launch_sites_df[['Launch Site', 'Lat', 'Long']]\n",
        "launch_sites_df"
      ]
    },
    {
      "cell_type": "markdown",
      "metadata": {},
      "source": [
        "Above coordinates are just plain numbers that can not give you any intuitive insights about where are those launch sites. If you are very good at geography, you can interpret those numbers directly in your mind. If not, that's fine too. Let's visualize those locations by pinning them on a map.\n"
      ]
    },
    {
      "cell_type": "markdown",
      "metadata": {},
      "source": [
        "We first need to create a folium `Map` object, with an initial center location to be NASA Johnson Space Center at Houston, Texas.\n"
      ]
    },
    {
      "cell_type": "code",
      "execution_count": 6,
      "metadata": {},
      "outputs": [],
      "source": [
        "# Start location is NASA Johnson Space Center\n",
        "nasa_coordinate = [29.559684888503615, -95.0830971930759]\n",
        "site_map = folium.Map(location=nasa_coordinate, zoom_start=10)"
      ]
    },
    {
      "cell_type": "markdown",
      "metadata": {},
      "source": [
        "We could use `folium.Circle` to add a highlighted circle area with a text label on a specific coordinate. For example,\n"
      ]
    },
    {
      "cell_type": "code",
      "execution_count": 7,
      "metadata": {},
      "outputs": [
        {
          "data": {
            "text/html": [
              "<div style=\"width:100%;\"><div style=\"position:relative;width:100%;height:0;padding-bottom:60%;\"><span style=\"color:#565656\">Make this Notebook Trusted to load map: File -> Trust Notebook</span><iframe srcdoc=\"&lt;!DOCTYPE html&gt;\n",
              "&lt;html&gt;\n",
              "&lt;head&gt;\n",
              "    \n",
              "    &lt;meta http-equiv=&quot;content-type&quot; content=&quot;text/html; charset=UTF-8&quot; /&gt;\n",
              "    &lt;script src=&quot;https://cdn.jsdelivr.net/npm/leaflet@1.9.3/dist/leaflet.js&quot;&gt;&lt;/script&gt;\n",
              "    &lt;script src=&quot;https://code.jquery.com/jquery-3.7.1.min.js&quot;&gt;&lt;/script&gt;\n",
              "    &lt;script src=&quot;https://cdn.jsdelivr.net/npm/bootstrap@5.2.2/dist/js/bootstrap.bundle.min.js&quot;&gt;&lt;/script&gt;\n",
              "    &lt;script src=&quot;https://cdnjs.cloudflare.com/ajax/libs/Leaflet.awesome-markers/2.0.2/leaflet.awesome-markers.js&quot;&gt;&lt;/script&gt;\n",
              "    &lt;link rel=&quot;stylesheet&quot; href=&quot;https://cdn.jsdelivr.net/npm/leaflet@1.9.3/dist/leaflet.css&quot;/&gt;\n",
              "    &lt;link rel=&quot;stylesheet&quot; href=&quot;https://cdn.jsdelivr.net/npm/bootstrap@5.2.2/dist/css/bootstrap.min.css&quot;/&gt;\n",
              "    &lt;link rel=&quot;stylesheet&quot; href=&quot;https://netdna.bootstrapcdn.com/bootstrap/3.0.0/css/bootstrap-glyphicons.css&quot;/&gt;\n",
              "    &lt;link rel=&quot;stylesheet&quot; href=&quot;https://cdn.jsdelivr.net/npm/@fortawesome/fontawesome-free@6.2.0/css/all.min.css&quot;/&gt;\n",
              "    &lt;link rel=&quot;stylesheet&quot; href=&quot;https://cdnjs.cloudflare.com/ajax/libs/Leaflet.awesome-markers/2.0.2/leaflet.awesome-markers.css&quot;/&gt;\n",
              "    &lt;link rel=&quot;stylesheet&quot; href=&quot;https://cdn.jsdelivr.net/gh/python-visualization/folium/folium/templates/leaflet.awesome.rotate.min.css&quot;/&gt;\n",
              "    \n",
              "            &lt;meta name=&quot;viewport&quot; content=&quot;width=device-width,\n",
              "                initial-scale=1.0, maximum-scale=1.0, user-scalable=no&quot; /&gt;\n",
              "            &lt;style&gt;\n",
              "                #map_eee006c238d2e3b1885014ea1508fc3b {\n",
              "                    position: relative;\n",
              "                    width: 100.0%;\n",
              "                    height: 100.0%;\n",
              "                    left: 0.0%;\n",
              "                    top: 0.0%;\n",
              "                }\n",
              "                .leaflet-container { font-size: 1rem; }\n",
              "            &lt;/style&gt;\n",
              "\n",
              "            &lt;style&gt;html, body {\n",
              "                width: 100%;\n",
              "                height: 100%;\n",
              "                margin: 0;\n",
              "                padding: 0;\n",
              "            }\n",
              "            &lt;/style&gt;\n",
              "\n",
              "            &lt;style&gt;#map {\n",
              "                position:absolute;\n",
              "                top:0;\n",
              "                bottom:0;\n",
              "                right:0;\n",
              "                left:0;\n",
              "                }\n",
              "            &lt;/style&gt;\n",
              "\n",
              "            &lt;script&gt;\n",
              "                L_NO_TOUCH = false;\n",
              "                L_DISABLE_3D = false;\n",
              "            &lt;/script&gt;\n",
              "\n",
              "        \n",
              "&lt;/head&gt;\n",
              "&lt;body&gt;\n",
              "    \n",
              "    \n",
              "            &lt;div class=&quot;folium-map&quot; id=&quot;map_eee006c238d2e3b1885014ea1508fc3b&quot; &gt;&lt;/div&gt;\n",
              "        \n",
              "&lt;/body&gt;\n",
              "&lt;script&gt;\n",
              "    \n",
              "    \n",
              "            var map_eee006c238d2e3b1885014ea1508fc3b = L.map(\n",
              "                &quot;map_eee006c238d2e3b1885014ea1508fc3b&quot;,\n",
              "                {\n",
              "                    center: [29.559684888503615, -95.0830971930759],\n",
              "                    crs: L.CRS.EPSG3857,\n",
              "                    ...{\n",
              "  &quot;zoom&quot;: 10,\n",
              "  &quot;zoomControl&quot;: true,\n",
              "  &quot;preferCanvas&quot;: false,\n",
              "}\n",
              "\n",
              "                }\n",
              "            );\n",
              "\n",
              "            \n",
              "\n",
              "        \n",
              "    \n",
              "            var tile_layer_c9c1f3711688dce097217094e38d2e9e = L.tileLayer(\n",
              "                &quot;https://tile.openstreetmap.org/{z}/{x}/{y}.png&quot;,\n",
              "                {\n",
              "  &quot;minZoom&quot;: 0,\n",
              "  &quot;maxZoom&quot;: 19,\n",
              "  &quot;maxNativeZoom&quot;: 19,\n",
              "  &quot;noWrap&quot;: false,\n",
              "  &quot;attribution&quot;: &quot;\\u0026copy; \\u003ca href=\\&quot;https://www.openstreetmap.org/copyright\\&quot;\\u003eOpenStreetMap\\u003c/a\\u003e contributors&quot;,\n",
              "  &quot;subdomains&quot;: &quot;abc&quot;,\n",
              "  &quot;detectRetina&quot;: false,\n",
              "  &quot;tms&quot;: false,\n",
              "  &quot;opacity&quot;: 1,\n",
              "}\n",
              "\n",
              "            );\n",
              "        \n",
              "    \n",
              "            tile_layer_c9c1f3711688dce097217094e38d2e9e.addTo(map_eee006c238d2e3b1885014ea1508fc3b);\n",
              "        \n",
              "    \n",
              "            var circle_f790cb016aa725783341da644c0bcd5e = L.circle(\n",
              "                [29.559684888503615, -95.0830971930759],\n",
              "                {&quot;bubblingMouseEvents&quot;: true, &quot;color&quot;: &quot;#d35400&quot;, &quot;dashArray&quot;: null, &quot;dashOffset&quot;: null, &quot;fill&quot;: true, &quot;fillColor&quot;: &quot;#d35400&quot;, &quot;fillOpacity&quot;: 0.2, &quot;fillRule&quot;: &quot;evenodd&quot;, &quot;lineCap&quot;: &quot;round&quot;, &quot;lineJoin&quot;: &quot;round&quot;, &quot;opacity&quot;: 1.0, &quot;radius&quot;: 1000, &quot;stroke&quot;: true, &quot;weight&quot;: 3}\n",
              "            ).addTo(map_eee006c238d2e3b1885014ea1508fc3b);\n",
              "        \n",
              "    \n",
              "        var popup_6836131b6f6599ef1d02a204661cc290 = L.popup({\n",
              "  &quot;maxWidth&quot;: &quot;100%&quot;,\n",
              "});\n",
              "\n",
              "        \n",
              "            \n",
              "                var html_4bbaae17ac5f2e51df0ac8aaabc72345 = $(`&lt;div id=&quot;html_4bbaae17ac5f2e51df0ac8aaabc72345&quot; style=&quot;width: 100.0%; height: 100.0%;&quot;&gt;NASA Johnson Space Center&lt;/div&gt;`)[0];\n",
              "                popup_6836131b6f6599ef1d02a204661cc290.setContent(html_4bbaae17ac5f2e51df0ac8aaabc72345);\n",
              "            \n",
              "        \n",
              "\n",
              "        circle_f790cb016aa725783341da644c0bcd5e.bindPopup(popup_6836131b6f6599ef1d02a204661cc290)\n",
              "        ;\n",
              "\n",
              "        \n",
              "    \n",
              "    \n",
              "            var marker_27cfce659fc644d87f6dc4feb3e5f957 = L.marker(\n",
              "                [29.559684888503615, -95.0830971930759],\n",
              "                {\n",
              "}\n",
              "            ).addTo(map_eee006c238d2e3b1885014ea1508fc3b);\n",
              "        \n",
              "    \n",
              "            var div_icon_1ca8b1d47fff57fcb2670823bf548f4c = L.divIcon({\n",
              "  &quot;html&quot;: &quot;\\u003cdiv style=\\&quot;font-size: 12; color:#d35400;\\&quot;\\u003e\\u003cb\\u003eNASA JSC\\u003c/b\\u003e\\u003c/div\\u003e&quot;,\n",
              "  &quot;iconSize&quot;: [20, 20],\n",
              "  &quot;iconAnchor&quot;: [0, 0],\n",
              "  &quot;className&quot;: &quot;empty&quot;,\n",
              "});\n",
              "        \n",
              "    \n",
              "                marker_27cfce659fc644d87f6dc4feb3e5f957.setIcon(div_icon_1ca8b1d47fff57fcb2670823bf548f4c);\n",
              "            \n",
              "&lt;/script&gt;\n",
              "&lt;/html&gt;\" style=\"position:absolute;width:100%;height:100%;left:0;top:0;border:none !important;\" allowfullscreen webkitallowfullscreen mozallowfullscreen></iframe></div></div>"
            ],
            "text/plain": [
              "<folium.folium.Map at 0x18f55068170>"
            ]
          },
          "execution_count": 7,
          "metadata": {},
          "output_type": "execute_result"
        }
      ],
      "source": [
        "# Create a blue circle at NASA Johnson Space Center's coordinate with a popup label showing its name\n",
        "circle = folium.Circle(nasa_coordinate, radius=1000, color='#d35400', fill=True).add_child(folium.Popup('NASA Johnson Space Center'))\n",
        "# Create a blue circle at NASA Johnson Space Center's coordinate with a icon showing its name\n",
        "marker = folium.map.Marker(\n",
        "    nasa_coordinate,\n",
        "    # Create an icon as a text label\n",
        "    icon=DivIcon(\n",
        "        icon_size=(20,20),\n",
        "        icon_anchor=(0,0),\n",
        "        html='<div style=\"font-size: 12; color:#d35400;\"><b>%s</b></div>' % 'NASA JSC',\n",
        "        )\n",
        "    )\n",
        "site_map.add_child(circle)\n",
        "site_map.add_child(marker)\n",
        "site_map"
      ]
    },
    {
      "cell_type": "markdown",
      "metadata": {},
      "source": [
        "and you should find a small yellow circle near the city of Houston and you can zoom-in to see a larger circle.\n"
      ]
    },
    {
      "cell_type": "markdown",
      "metadata": {},
      "source": [
        "Now, let's add a circle for each launch site in data frame `launch_sites`\n"
      ]
    },
    {
      "cell_type": "markdown",
      "metadata": {},
      "source": [
        "*TODO:*  Create and add `folium.Circle` and `folium.Marker` for each launch site on the site map\n"
      ]
    },
    {
      "cell_type": "markdown",
      "metadata": {},
      "source": [
        "An example of folium.Circle:\n"
      ]
    },
    {
      "cell_type": "markdown",
      "metadata": {},
      "source": [
        "`folium.Circle(coordinate, radius=1000, color='#000000', fill=True).add_child(folium.Popup(...))`\n"
      ]
    },
    {
      "cell_type": "markdown",
      "metadata": {},
      "source": [
        "An example of folium.Marker:\n"
      ]
    },
    {
      "cell_type": "markdown",
      "metadata": {},
      "source": [
        "`folium.map.Marker(coordinate, icon=DivIcon(icon_size=(20,20),icon_anchor=(0,0), html='<div style=\"font-size: 12; color:#d35400;\"><b>%s</b></div>' % 'label', ))`\n"
      ]
    },
    {
      "cell_type": "code",
      "execution_count": 8,
      "metadata": {},
      "outputs": [],
      "source": [
        "# Initial the map\n",
        "site_map = folium.Map(location=nasa_coordinate, zoom_start=5)\n",
        "# For each launch site, add a Circle object based on its coordinate (Lat, Long) values. In addition, add Launch site name as a popup label\n"
      ]
    },
    {
      "cell_type": "markdown",
      "metadata": {},
      "source": [
        "The generated map with marked launch sites should look similar to the following:\n"
      ]
    },
    {
      "cell_type": "markdown",
      "metadata": {},
      "source": [
        "<center>\n",
        "    <img src=\"https://cf-courses-data.s3.us.cloud-object-storage.appdomain.cloud/IBM-DS0321EN-SkillsNetwork/labs/module_3/images/launch_site_markers.png\">\n",
        "</center>\n"
      ]
    },
    {
      "cell_type": "markdown",
      "metadata": {},
      "source": [
        "Now, you can explore the map by zoom-in/out the marked areas\n",
        ", and try to answer the following questions:\n",
        "\n",
        "*   Are all launch sites in proximity to the Equator line?\n",
        "*   Are all launch sites in very close proximity to the coast?\n",
        "\n",
        "Also please try to explain your findings.\n"
      ]
    },
    {
      "cell_type": "code",
      "execution_count": 9,
      "metadata": {},
      "outputs": [],
      "source": [
        "# Task 2: Mark the success/failed launches for each site on the map\n"
      ]
    },
    {
      "cell_type": "markdown",
      "metadata": {},
      "source": [
        "Next, let's try to enhance the map by adding the launch outcomes for each site, and see which sites have high success rates.\n",
        "Recall that data frame spacex_df has detailed launch records, and the `class` column indicates if this launch was successful or not\n"
      ]
    },
    {
      "cell_type": "code",
      "execution_count": 10,
      "metadata": {},
      "outputs": [
        {
          "data": {
            "text/html": [
              "<div>\n",
              "<style scoped>\n",
              "    .dataframe tbody tr th:only-of-type {\n",
              "        vertical-align: middle;\n",
              "    }\n",
              "\n",
              "    .dataframe tbody tr th {\n",
              "        vertical-align: top;\n",
              "    }\n",
              "\n",
              "    .dataframe thead th {\n",
              "        text-align: right;\n",
              "    }\n",
              "</style>\n",
              "<table border=\"1\" class=\"dataframe\">\n",
              "  <thead>\n",
              "    <tr style=\"text-align: right;\">\n",
              "      <th></th>\n",
              "      <th>Launch Site</th>\n",
              "      <th>Lat</th>\n",
              "      <th>Long</th>\n",
              "      <th>class</th>\n",
              "    </tr>\n",
              "  </thead>\n",
              "  <tbody>\n",
              "    <tr>\n",
              "      <th>46</th>\n",
              "      <td>KSC LC-39A</td>\n",
              "      <td>28.573255</td>\n",
              "      <td>-80.646895</td>\n",
              "      <td>1</td>\n",
              "    </tr>\n",
              "    <tr>\n",
              "      <th>47</th>\n",
              "      <td>KSC LC-39A</td>\n",
              "      <td>28.573255</td>\n",
              "      <td>-80.646895</td>\n",
              "      <td>1</td>\n",
              "    </tr>\n",
              "    <tr>\n",
              "      <th>48</th>\n",
              "      <td>KSC LC-39A</td>\n",
              "      <td>28.573255</td>\n",
              "      <td>-80.646895</td>\n",
              "      <td>1</td>\n",
              "    </tr>\n",
              "    <tr>\n",
              "      <th>49</th>\n",
              "      <td>CCAFS SLC-40</td>\n",
              "      <td>28.563197</td>\n",
              "      <td>-80.576820</td>\n",
              "      <td>1</td>\n",
              "    </tr>\n",
              "    <tr>\n",
              "      <th>50</th>\n",
              "      <td>CCAFS SLC-40</td>\n",
              "      <td>28.563197</td>\n",
              "      <td>-80.576820</td>\n",
              "      <td>1</td>\n",
              "    </tr>\n",
              "    <tr>\n",
              "      <th>51</th>\n",
              "      <td>CCAFS SLC-40</td>\n",
              "      <td>28.563197</td>\n",
              "      <td>-80.576820</td>\n",
              "      <td>0</td>\n",
              "    </tr>\n",
              "    <tr>\n",
              "      <th>52</th>\n",
              "      <td>CCAFS SLC-40</td>\n",
              "      <td>28.563197</td>\n",
              "      <td>-80.576820</td>\n",
              "      <td>0</td>\n",
              "    </tr>\n",
              "    <tr>\n",
              "      <th>53</th>\n",
              "      <td>CCAFS SLC-40</td>\n",
              "      <td>28.563197</td>\n",
              "      <td>-80.576820</td>\n",
              "      <td>0</td>\n",
              "    </tr>\n",
              "    <tr>\n",
              "      <th>54</th>\n",
              "      <td>CCAFS SLC-40</td>\n",
              "      <td>28.563197</td>\n",
              "      <td>-80.576820</td>\n",
              "      <td>1</td>\n",
              "    </tr>\n",
              "    <tr>\n",
              "      <th>55</th>\n",
              "      <td>CCAFS SLC-40</td>\n",
              "      <td>28.563197</td>\n",
              "      <td>-80.576820</td>\n",
              "      <td>0</td>\n",
              "    </tr>\n",
              "  </tbody>\n",
              "</table>\n",
              "</div>"
            ],
            "text/plain": [
              "     Launch Site        Lat       Long  class\n",
              "46    KSC LC-39A  28.573255 -80.646895      1\n",
              "47    KSC LC-39A  28.573255 -80.646895      1\n",
              "48    KSC LC-39A  28.573255 -80.646895      1\n",
              "49  CCAFS SLC-40  28.563197 -80.576820      1\n",
              "50  CCAFS SLC-40  28.563197 -80.576820      1\n",
              "51  CCAFS SLC-40  28.563197 -80.576820      0\n",
              "52  CCAFS SLC-40  28.563197 -80.576820      0\n",
              "53  CCAFS SLC-40  28.563197 -80.576820      0\n",
              "54  CCAFS SLC-40  28.563197 -80.576820      1\n",
              "55  CCAFS SLC-40  28.563197 -80.576820      0"
            ]
          },
          "execution_count": 10,
          "metadata": {},
          "output_type": "execute_result"
        }
      ],
      "source": [
        "spacex_df.tail(10)"
      ]
    },
    {
      "cell_type": "markdown",
      "metadata": {},
      "source": [
        "Next, let's create markers for all launch records.\n",
        "If a launch was successful `(class=1)`, then we use a green marker and if a launch was failed, we use a red marker `(class=0)`\n"
      ]
    },
    {
      "cell_type": "markdown",
      "metadata": {},
      "source": [
        "Note that a launch only happens in one of the four launch sites, which means many launch records will have the exact same coordinate. Marker clusters can be a good way to simplify a map containing many markers having the same coordinate.\n"
      ]
    },
    {
      "cell_type": "markdown",
      "metadata": {},
      "source": [
        "Let's first create a `MarkerCluster` object\n"
      ]
    },
    {
      "cell_type": "code",
      "execution_count": 11,
      "metadata": {},
      "outputs": [],
      "source": [
        "marker_cluster = MarkerCluster()\n"
      ]
    },
    {
      "cell_type": "markdown",
      "metadata": {},
      "source": [
        "*TODO:* Create a new column in `spacex_df` dataframe called `marker_color` to store the marker colors based on the `class` value\n"
      ]
    },
    {
      "cell_type": "code",
      "execution_count": 12,
      "metadata": {},
      "outputs": [],
      "source": [
        "\n",
        "# Apply a function to check the value of `class` column\n",
        "# If class=1, marker_color value will be green\n",
        "# If class=0, marker_color value will be red"
      ]
    },
    {
      "cell_type": "markdown",
      "metadata": {},
      "source": [
        "*TODO:* For each launch result in `spacex_df` data frame, add a `folium.Marker` to `marker_cluster`\n"
      ]
    },
    {
      "cell_type": "code",
      "execution_count": 13,
      "metadata": {},
      "outputs": [
        {
          "data": {
            "text/html": [
              "<div style=\"width:100%;\"><div style=\"position:relative;width:100%;height:0;padding-bottom:60%;\"><span style=\"color:#565656\">Make this Notebook Trusted to load map: File -> Trust Notebook</span><iframe srcdoc=\"&lt;!DOCTYPE html&gt;\n",
              "&lt;html&gt;\n",
              "&lt;head&gt;\n",
              "    \n",
              "    &lt;meta http-equiv=&quot;content-type&quot; content=&quot;text/html; charset=UTF-8&quot; /&gt;\n",
              "    &lt;script src=&quot;https://cdn.jsdelivr.net/npm/leaflet@1.9.3/dist/leaflet.js&quot;&gt;&lt;/script&gt;\n",
              "    &lt;script src=&quot;https://code.jquery.com/jquery-3.7.1.min.js&quot;&gt;&lt;/script&gt;\n",
              "    &lt;script src=&quot;https://cdn.jsdelivr.net/npm/bootstrap@5.2.2/dist/js/bootstrap.bundle.min.js&quot;&gt;&lt;/script&gt;\n",
              "    &lt;script src=&quot;https://cdnjs.cloudflare.com/ajax/libs/Leaflet.awesome-markers/2.0.2/leaflet.awesome-markers.js&quot;&gt;&lt;/script&gt;\n",
              "    &lt;link rel=&quot;stylesheet&quot; href=&quot;https://cdn.jsdelivr.net/npm/leaflet@1.9.3/dist/leaflet.css&quot;/&gt;\n",
              "    &lt;link rel=&quot;stylesheet&quot; href=&quot;https://cdn.jsdelivr.net/npm/bootstrap@5.2.2/dist/css/bootstrap.min.css&quot;/&gt;\n",
              "    &lt;link rel=&quot;stylesheet&quot; href=&quot;https://netdna.bootstrapcdn.com/bootstrap/3.0.0/css/bootstrap-glyphicons.css&quot;/&gt;\n",
              "    &lt;link rel=&quot;stylesheet&quot; href=&quot;https://cdn.jsdelivr.net/npm/@fortawesome/fontawesome-free@6.2.0/css/all.min.css&quot;/&gt;\n",
              "    &lt;link rel=&quot;stylesheet&quot; href=&quot;https://cdnjs.cloudflare.com/ajax/libs/Leaflet.awesome-markers/2.0.2/leaflet.awesome-markers.css&quot;/&gt;\n",
              "    &lt;link rel=&quot;stylesheet&quot; href=&quot;https://cdn.jsdelivr.net/gh/python-visualization/folium/folium/templates/leaflet.awesome.rotate.min.css&quot;/&gt;\n",
              "    \n",
              "            &lt;meta name=&quot;viewport&quot; content=&quot;width=device-width,\n",
              "                initial-scale=1.0, maximum-scale=1.0, user-scalable=no&quot; /&gt;\n",
              "            &lt;style&gt;\n",
              "                #map_adcb10a5868f8cf005cf2f9a8ffcafec {\n",
              "                    position: relative;\n",
              "                    width: 100.0%;\n",
              "                    height: 100.0%;\n",
              "                    left: 0.0%;\n",
              "                    top: 0.0%;\n",
              "                }\n",
              "                .leaflet-container { font-size: 1rem; }\n",
              "            &lt;/style&gt;\n",
              "\n",
              "            &lt;style&gt;html, body {\n",
              "                width: 100%;\n",
              "                height: 100%;\n",
              "                margin: 0;\n",
              "                padding: 0;\n",
              "            }\n",
              "            &lt;/style&gt;\n",
              "\n",
              "            &lt;style&gt;#map {\n",
              "                position:absolute;\n",
              "                top:0;\n",
              "                bottom:0;\n",
              "                right:0;\n",
              "                left:0;\n",
              "                }\n",
              "            &lt;/style&gt;\n",
              "\n",
              "            &lt;script&gt;\n",
              "                L_NO_TOUCH = false;\n",
              "                L_DISABLE_3D = false;\n",
              "            &lt;/script&gt;\n",
              "\n",
              "        \n",
              "    &lt;script src=&quot;https://cdnjs.cloudflare.com/ajax/libs/leaflet.markercluster/1.1.0/leaflet.markercluster.js&quot;&gt;&lt;/script&gt;\n",
              "    &lt;link rel=&quot;stylesheet&quot; href=&quot;https://cdnjs.cloudflare.com/ajax/libs/leaflet.markercluster/1.1.0/MarkerCluster.css&quot;/&gt;\n",
              "    &lt;link rel=&quot;stylesheet&quot; href=&quot;https://cdnjs.cloudflare.com/ajax/libs/leaflet.markercluster/1.1.0/MarkerCluster.Default.css&quot;/&gt;\n",
              "&lt;/head&gt;\n",
              "&lt;body&gt;\n",
              "    \n",
              "    \n",
              "            &lt;div class=&quot;folium-map&quot; id=&quot;map_adcb10a5868f8cf005cf2f9a8ffcafec&quot; &gt;&lt;/div&gt;\n",
              "        \n",
              "&lt;/body&gt;\n",
              "&lt;script&gt;\n",
              "    \n",
              "    \n",
              "            var map_adcb10a5868f8cf005cf2f9a8ffcafec = L.map(\n",
              "                &quot;map_adcb10a5868f8cf005cf2f9a8ffcafec&quot;,\n",
              "                {\n",
              "                    center: [29.559684888503615, -95.0830971930759],\n",
              "                    crs: L.CRS.EPSG3857,\n",
              "                    ...{\n",
              "  &quot;zoom&quot;: 5,\n",
              "  &quot;zoomControl&quot;: true,\n",
              "  &quot;preferCanvas&quot;: false,\n",
              "}\n",
              "\n",
              "                }\n",
              "            );\n",
              "\n",
              "            \n",
              "\n",
              "        \n",
              "    \n",
              "            var tile_layer_2a7c66bf14efd6ed5434eb8bdc124e93 = L.tileLayer(\n",
              "                &quot;https://tile.openstreetmap.org/{z}/{x}/{y}.png&quot;,\n",
              "                {\n",
              "  &quot;minZoom&quot;: 0,\n",
              "  &quot;maxZoom&quot;: 19,\n",
              "  &quot;maxNativeZoom&quot;: 19,\n",
              "  &quot;noWrap&quot;: false,\n",
              "  &quot;attribution&quot;: &quot;\\u0026copy; \\u003ca href=\\&quot;https://www.openstreetmap.org/copyright\\&quot;\\u003eOpenStreetMap\\u003c/a\\u003e contributors&quot;,\n",
              "  &quot;subdomains&quot;: &quot;abc&quot;,\n",
              "  &quot;detectRetina&quot;: false,\n",
              "  &quot;tms&quot;: false,\n",
              "  &quot;opacity&quot;: 1,\n",
              "}\n",
              "\n",
              "            );\n",
              "        \n",
              "    \n",
              "            tile_layer_2a7c66bf14efd6ed5434eb8bdc124e93.addTo(map_adcb10a5868f8cf005cf2f9a8ffcafec);\n",
              "        \n",
              "    \n",
              "            var marker_cluster_290cbdf26b2f7a8c0decfff2853ab46f = L.markerClusterGroup(\n",
              "                {\n",
              "}\n",
              "            );\n",
              "        \n",
              "    \n",
              "            var marker_27cfce659fc644d87f6dc4feb3e5f957 = L.marker(\n",
              "                [29.559684888503615, -95.0830971930759],\n",
              "                {\n",
              "}\n",
              "            ).addTo(marker_cluster_290cbdf26b2f7a8c0decfff2853ab46f);\n",
              "        \n",
              "    \n",
              "            var div_icon_1ca8b1d47fff57fcb2670823bf548f4c = L.divIcon({\n",
              "  &quot;html&quot;: &quot;\\u003cdiv style=\\&quot;font-size: 12; color:#d35400;\\&quot;\\u003e\\u003cb\\u003eNASA JSC\\u003c/b\\u003e\\u003c/div\\u003e&quot;,\n",
              "  &quot;iconSize&quot;: [20, 20],\n",
              "  &quot;iconAnchor&quot;: [0, 0],\n",
              "  &quot;className&quot;: &quot;empty&quot;,\n",
              "});\n",
              "        \n",
              "    \n",
              "                marker_27cfce659fc644d87f6dc4feb3e5f957.setIcon(div_icon_1ca8b1d47fff57fcb2670823bf548f4c);\n",
              "            \n",
              "    \n",
              "                marker_27cfce659fc644d87f6dc4feb3e5f957.setIcon(div_icon_1ca8b1d47fff57fcb2670823bf548f4c);\n",
              "            \n",
              "    \n",
              "            marker_cluster_290cbdf26b2f7a8c0decfff2853ab46f.addTo(map_adcb10a5868f8cf005cf2f9a8ffcafec);\n",
              "        \n",
              "&lt;/script&gt;\n",
              "&lt;/html&gt;\" style=\"position:absolute;width:100%;height:100%;left:0;top:0;border:none !important;\" allowfullscreen webkitallowfullscreen mozallowfullscreen></iframe></div></div>"
            ],
            "text/plain": [
              "<folium.folium.Map at 0x18f5520b590>"
            ]
          },
          "execution_count": 13,
          "metadata": {},
          "output_type": "execute_result"
        }
      ],
      "source": [
        "# Add marker_cluster to current site_map\n",
        "site_map.add_child(marker_cluster)\n",
        "\n",
        "# for each row in spacex_df data frame\n",
        "# create a Marker object with its coordinate\n",
        "# and customize the Marker's icon property to indicate if this launch was successed or failed, \n",
        "# e.g., icon=folium.Icon(color='white', icon_color=row['marker_color']\n",
        "for index, record in spacex_df.iterrows():\n",
        "    # TODO: Create and add a Marker cluster to the site map\n",
        "    # marker = folium.Marker(...)\n",
        "    marker_cluster.add_child(marker)\n",
        "\n",
        "site_map"
      ]
    },
    {
      "cell_type": "markdown",
      "metadata": {},
      "source": [
        "Your updated map may look like the following screenshots:\n"
      ]
    },
    {
      "cell_type": "markdown",
      "metadata": {},
      "source": [
        "<center>\n",
        "    <img src=\"https://cf-courses-data.s3.us.cloud-object-storage.appdomain.cloud/IBM-DS0321EN-SkillsNetwork/labs/module_3/images/launch_site_marker_cluster.png\">\n",
        "</center>\n"
      ]
    },
    {
      "cell_type": "markdown",
      "metadata": {},
      "source": [
        "<center>\n",
        "    <img src=\"https://cf-courses-data.s3.us.cloud-object-storage.appdomain.cloud/IBM-DS0321EN-SkillsNetwork/labs/module_3/images/launch_site_marker_cluster_zoomed.png\">\n",
        "</center>\n"
      ]
    },
    {
      "cell_type": "markdown",
      "metadata": {},
      "source": [
        "From the color-labeled markers in marker clusters, you should be able to easily identify which launch sites have relatively high success rates.\n"
      ]
    },
    {
      "cell_type": "code",
      "execution_count": 14,
      "metadata": {},
      "outputs": [],
      "source": [
        "# TASK 3: Calculate the distances between a launch site to its proximities\n"
      ]
    },
    {
      "cell_type": "markdown",
      "metadata": {},
      "source": [
        "Next, we need to explore and analyze the proximities of launch sites.\n"
      ]
    },
    {
      "cell_type": "markdown",
      "metadata": {},
      "source": [
        "Let's first add a `MousePosition` on the map to get coordinate for a mouse over a point on the map. As such, while you are exploring the map, you can easily find the coordinates of any points of interests (such as railway)\n"
      ]
    },
    {
      "cell_type": "code",
      "execution_count": 15,
      "metadata": {},
      "outputs": [
        {
          "data": {
            "text/html": [
              "<div style=\"width:100%;\"><div style=\"position:relative;width:100%;height:0;padding-bottom:60%;\"><span style=\"color:#565656\">Make this Notebook Trusted to load map: File -> Trust Notebook</span><iframe srcdoc=\"&lt;!DOCTYPE html&gt;\n",
              "&lt;html&gt;\n",
              "&lt;head&gt;\n",
              "    \n",
              "    &lt;meta http-equiv=&quot;content-type&quot; content=&quot;text/html; charset=UTF-8&quot; /&gt;\n",
              "    &lt;script src=&quot;https://cdn.jsdelivr.net/npm/leaflet@1.9.3/dist/leaflet.js&quot;&gt;&lt;/script&gt;\n",
              "    &lt;script src=&quot;https://code.jquery.com/jquery-3.7.1.min.js&quot;&gt;&lt;/script&gt;\n",
              "    &lt;script src=&quot;https://cdn.jsdelivr.net/npm/bootstrap@5.2.2/dist/js/bootstrap.bundle.min.js&quot;&gt;&lt;/script&gt;\n",
              "    &lt;script src=&quot;https://cdnjs.cloudflare.com/ajax/libs/Leaflet.awesome-markers/2.0.2/leaflet.awesome-markers.js&quot;&gt;&lt;/script&gt;\n",
              "    &lt;link rel=&quot;stylesheet&quot; href=&quot;https://cdn.jsdelivr.net/npm/leaflet@1.9.3/dist/leaflet.css&quot;/&gt;\n",
              "    &lt;link rel=&quot;stylesheet&quot; href=&quot;https://cdn.jsdelivr.net/npm/bootstrap@5.2.2/dist/css/bootstrap.min.css&quot;/&gt;\n",
              "    &lt;link rel=&quot;stylesheet&quot; href=&quot;https://netdna.bootstrapcdn.com/bootstrap/3.0.0/css/bootstrap-glyphicons.css&quot;/&gt;\n",
              "    &lt;link rel=&quot;stylesheet&quot; href=&quot;https://cdn.jsdelivr.net/npm/@fortawesome/fontawesome-free@6.2.0/css/all.min.css&quot;/&gt;\n",
              "    &lt;link rel=&quot;stylesheet&quot; href=&quot;https://cdnjs.cloudflare.com/ajax/libs/Leaflet.awesome-markers/2.0.2/leaflet.awesome-markers.css&quot;/&gt;\n",
              "    &lt;link rel=&quot;stylesheet&quot; href=&quot;https://cdn.jsdelivr.net/gh/python-visualization/folium/folium/templates/leaflet.awesome.rotate.min.css&quot;/&gt;\n",
              "    \n",
              "            &lt;meta name=&quot;viewport&quot; content=&quot;width=device-width,\n",
              "                initial-scale=1.0, maximum-scale=1.0, user-scalable=no&quot; /&gt;\n",
              "            &lt;style&gt;\n",
              "                #map_adcb10a5868f8cf005cf2f9a8ffcafec {\n",
              "                    position: relative;\n",
              "                    width: 100.0%;\n",
              "                    height: 100.0%;\n",
              "                    left: 0.0%;\n",
              "                    top: 0.0%;\n",
              "                }\n",
              "                .leaflet-container { font-size: 1rem; }\n",
              "            &lt;/style&gt;\n",
              "\n",
              "            &lt;style&gt;html, body {\n",
              "                width: 100%;\n",
              "                height: 100%;\n",
              "                margin: 0;\n",
              "                padding: 0;\n",
              "            }\n",
              "            &lt;/style&gt;\n",
              "\n",
              "            &lt;style&gt;#map {\n",
              "                position:absolute;\n",
              "                top:0;\n",
              "                bottom:0;\n",
              "                right:0;\n",
              "                left:0;\n",
              "                }\n",
              "            &lt;/style&gt;\n",
              "\n",
              "            &lt;script&gt;\n",
              "                L_NO_TOUCH = false;\n",
              "                L_DISABLE_3D = false;\n",
              "            &lt;/script&gt;\n",
              "\n",
              "        \n",
              "    &lt;script src=&quot;https://cdnjs.cloudflare.com/ajax/libs/leaflet.markercluster/1.1.0/leaflet.markercluster.js&quot;&gt;&lt;/script&gt;\n",
              "    &lt;link rel=&quot;stylesheet&quot; href=&quot;https://cdnjs.cloudflare.com/ajax/libs/leaflet.markercluster/1.1.0/MarkerCluster.css&quot;/&gt;\n",
              "    &lt;link rel=&quot;stylesheet&quot; href=&quot;https://cdnjs.cloudflare.com/ajax/libs/leaflet.markercluster/1.1.0/MarkerCluster.Default.css&quot;/&gt;\n",
              "    &lt;script src=&quot;https://cdn.jsdelivr.net/gh/ardhi/Leaflet.MousePosition/src/L.Control.MousePosition.min.js&quot;&gt;&lt;/script&gt;\n",
              "    &lt;link rel=&quot;stylesheet&quot; href=&quot;https://cdn.jsdelivr.net/gh/ardhi/Leaflet.MousePosition/src/L.Control.MousePosition.min.css&quot;/&gt;\n",
              "&lt;/head&gt;\n",
              "&lt;body&gt;\n",
              "    \n",
              "    \n",
              "            &lt;div class=&quot;folium-map&quot; id=&quot;map_adcb10a5868f8cf005cf2f9a8ffcafec&quot; &gt;&lt;/div&gt;\n",
              "        \n",
              "&lt;/body&gt;\n",
              "&lt;script&gt;\n",
              "    \n",
              "    \n",
              "            var map_adcb10a5868f8cf005cf2f9a8ffcafec = L.map(\n",
              "                &quot;map_adcb10a5868f8cf005cf2f9a8ffcafec&quot;,\n",
              "                {\n",
              "                    center: [29.559684888503615, -95.0830971930759],\n",
              "                    crs: L.CRS.EPSG3857,\n",
              "                    ...{\n",
              "  &quot;zoom&quot;: 5,\n",
              "  &quot;zoomControl&quot;: true,\n",
              "  &quot;preferCanvas&quot;: false,\n",
              "}\n",
              "\n",
              "                }\n",
              "            );\n",
              "\n",
              "            \n",
              "\n",
              "        \n",
              "    \n",
              "            var tile_layer_2a7c66bf14efd6ed5434eb8bdc124e93 = L.tileLayer(\n",
              "                &quot;https://tile.openstreetmap.org/{z}/{x}/{y}.png&quot;,\n",
              "                {\n",
              "  &quot;minZoom&quot;: 0,\n",
              "  &quot;maxZoom&quot;: 19,\n",
              "  &quot;maxNativeZoom&quot;: 19,\n",
              "  &quot;noWrap&quot;: false,\n",
              "  &quot;attribution&quot;: &quot;\\u0026copy; \\u003ca href=\\&quot;https://www.openstreetmap.org/copyright\\&quot;\\u003eOpenStreetMap\\u003c/a\\u003e contributors&quot;,\n",
              "  &quot;subdomains&quot;: &quot;abc&quot;,\n",
              "  &quot;detectRetina&quot;: false,\n",
              "  &quot;tms&quot;: false,\n",
              "  &quot;opacity&quot;: 1,\n",
              "}\n",
              "\n",
              "            );\n",
              "        \n",
              "    \n",
              "            tile_layer_2a7c66bf14efd6ed5434eb8bdc124e93.addTo(map_adcb10a5868f8cf005cf2f9a8ffcafec);\n",
              "        \n",
              "    \n",
              "            var marker_cluster_290cbdf26b2f7a8c0decfff2853ab46f = L.markerClusterGroup(\n",
              "                {\n",
              "}\n",
              "            );\n",
              "        \n",
              "    \n",
              "            var marker_27cfce659fc644d87f6dc4feb3e5f957 = L.marker(\n",
              "                [29.559684888503615, -95.0830971930759],\n",
              "                {\n",
              "}\n",
              "            ).addTo(marker_cluster_290cbdf26b2f7a8c0decfff2853ab46f);\n",
              "        \n",
              "    \n",
              "            var div_icon_1ca8b1d47fff57fcb2670823bf548f4c = L.divIcon({\n",
              "  &quot;html&quot;: &quot;\\u003cdiv style=\\&quot;font-size: 12; color:#d35400;\\&quot;\\u003e\\u003cb\\u003eNASA JSC\\u003c/b\\u003e\\u003c/div\\u003e&quot;,\n",
              "  &quot;iconSize&quot;: [20, 20],\n",
              "  &quot;iconAnchor&quot;: [0, 0],\n",
              "  &quot;className&quot;: &quot;empty&quot;,\n",
              "});\n",
              "        \n",
              "    \n",
              "                marker_27cfce659fc644d87f6dc4feb3e5f957.setIcon(div_icon_1ca8b1d47fff57fcb2670823bf548f4c);\n",
              "            \n",
              "    \n",
              "                marker_27cfce659fc644d87f6dc4feb3e5f957.setIcon(div_icon_1ca8b1d47fff57fcb2670823bf548f4c);\n",
              "            \n",
              "    \n",
              "            marker_cluster_290cbdf26b2f7a8c0decfff2853ab46f.addTo(map_adcb10a5868f8cf005cf2f9a8ffcafec);\n",
              "        \n",
              "    \n",
              "            tile_layer_2a7c66bf14efd6ed5434eb8bdc124e93.addTo(map_adcb10a5868f8cf005cf2f9a8ffcafec);\n",
              "        \n",
              "    \n",
              "                marker_27cfce659fc644d87f6dc4feb3e5f957.setIcon(div_icon_1ca8b1d47fff57fcb2670823bf548f4c);\n",
              "            \n",
              "    \n",
              "            marker_cluster_290cbdf26b2f7a8c0decfff2853ab46f.addTo(map_adcb10a5868f8cf005cf2f9a8ffcafec);\n",
              "        \n",
              "    \n",
              "            var mouse_position_b9a63a964fc892228b5a0342ed645416 = new L.Control.MousePosition(\n",
              "                {\n",
              "  &quot;position&quot;: &quot;topright&quot;,\n",
              "  &quot;separator&quot;: &quot; Long: &quot;,\n",
              "  &quot;emptyString&quot;: &quot;NaN&quot;,\n",
              "  &quot;lngFirst&quot;: false,\n",
              "  &quot;numDigits&quot;: 20,\n",
              "  &quot;prefix&quot;: &quot;Lat:&quot;,\n",
              "}\n",
              "            );\n",
              "            mouse_position_b9a63a964fc892228b5a0342ed645416.options[&quot;latFormatter&quot;] =\n",
              "                function(num) {return L.Util.formatNum(num, 5);};;\n",
              "            mouse_position_b9a63a964fc892228b5a0342ed645416.options[&quot;lngFormatter&quot;] =\n",
              "                function(num) {return L.Util.formatNum(num, 5);};;\n",
              "            map_adcb10a5868f8cf005cf2f9a8ffcafec.addControl(mouse_position_b9a63a964fc892228b5a0342ed645416);\n",
              "        \n",
              "&lt;/script&gt;\n",
              "&lt;/html&gt;\" style=\"position:absolute;width:100%;height:100%;left:0;top:0;border:none !important;\" allowfullscreen webkitallowfullscreen mozallowfullscreen></iframe></div></div>"
            ],
            "text/plain": [
              "<folium.folium.Map at 0x18f5520b590>"
            ]
          },
          "execution_count": 15,
          "metadata": {},
          "output_type": "execute_result"
        }
      ],
      "source": [
        "# Add Mouse Position to get the coordinate (Lat, Long) for a mouse over on the map\n",
        "formatter = \"function(num) {return L.Util.formatNum(num, 5);};\"\n",
        "mouse_position = MousePosition(\n",
        "    position='topright',\n",
        "    separator=' Long: ',\n",
        "    empty_string='NaN',\n",
        "    lng_first=False,\n",
        "    num_digits=20,\n",
        "    prefix='Lat:',\n",
        "    lat_formatter=formatter,\n",
        "    lng_formatter=formatter,\n",
        ")\n",
        "\n",
        "site_map.add_child(mouse_position)\n",
        "site_map"
      ]
    },
    {
      "cell_type": "markdown",
      "metadata": {},
      "source": [
        "Now zoom in to a launch site and explore its proximity to see if you can easily find any railway, highway, coastline, etc. Move your mouse to these points and mark down their coordinates (shown on the top-left) in order to the distance to the launch site.\n"
      ]
    },
    {
      "cell_type": "markdown",
      "metadata": {},
      "source": [
        "Now zoom in to a launch site and explore its proximity to see if you can easily find any railway, highway, coastline, etc. Move your mouse to these points and mark down their coordinates (shown on the top-left) in order to the distance to the launch site.\n"
      ]
    },
    {
      "cell_type": "code",
      "execution_count": 16,
      "metadata": {},
      "outputs": [],
      "source": [
        "from math import sin, cos, sqrt, atan2, radians\n",
        "\n",
        "def calculate_distance(lat1, lon1, lat2, lon2):\n",
        "    # approximate radius of earth in km\n",
        "    R = 6373.0\n",
        "\n",
        "    lat1 = radians(lat1)\n",
        "    lon1 = radians(lon1)\n",
        "    lat2 = radians(lat2)\n",
        "    lon2 = radians(lon2)\n",
        "\n",
        "    dlon = lon2 - lon1\n",
        "    dlat = lat2 - lat1\n",
        "\n",
        "    a = sin(dlat / 2)**2 + cos(lat1) * cos(lat2) * sin(dlon / 2)**2\n",
        "    c = 2 * atan2(sqrt(a), sqrt(1 - a))\n",
        "\n",
        "    distance = R * c\n",
        "    return distance"
      ]
    },
    {
      "cell_type": "markdown",
      "metadata": {},
      "source": [
        "*TODO:* Mark down a point on the closest coastline using MousePosition and calculate the distance between the coastline point and the launch site.\n"
      ]
    },
    {
      "cell_type": "code",
      "execution_count": null,
      "metadata": {},
      "outputs": [
        {
          "name": "stdout",
          "output_type": "stream",
          "text": [
            "Khoảng cách tới bờ biển gần nhất: 17.316248849572794 km\n"
          ]
        }
      ],
      "source": [
        "# find coordinate of the closet coastline\n",
        "# e.g.,: Lat: 28.56367  Lon: -80.57163\n",
        "# distance_coastline = calculate_distance(launch_site_lat, launch_site_lon, coastline_lat, coastline_lon)\n",
        "launch_site_lat = 28.56367\n",
        "launch_site_lon = -80.57163\n",
        "coastline_lat, coastline_lon = 28.4100, -80.6000\n",
        "\n",
        "distance_coastline = calculate_distance(\n",
        "    launch_site_lat, launch_site_lon,\n",
        "    coastline_lat, coastline_lon\n",
        ")\n",
        "\n",
        "print(\"Khoảng cách tới bờ biển gần nhất:\", distance_coastline, \"km\")\n"
      ]
    },
    {
      "cell_type": "code",
      "execution_count": 23,
      "metadata": {},
      "outputs": [
        {
          "data": {
            "text/html": [
              "<div style=\"width:100%;\"><div style=\"position:relative;width:100%;height:0;padding-bottom:60%;\"><span style=\"color:#565656\">Make this Notebook Trusted to load map: File -> Trust Notebook</span><iframe srcdoc=\"&lt;!DOCTYPE html&gt;\n",
              "&lt;html&gt;\n",
              "&lt;head&gt;\n",
              "    \n",
              "    &lt;meta http-equiv=&quot;content-type&quot; content=&quot;text/html; charset=UTF-8&quot; /&gt;\n",
              "    &lt;script src=&quot;https://cdn.jsdelivr.net/npm/leaflet@1.9.3/dist/leaflet.js&quot;&gt;&lt;/script&gt;\n",
              "    &lt;script src=&quot;https://code.jquery.com/jquery-3.7.1.min.js&quot;&gt;&lt;/script&gt;\n",
              "    &lt;script src=&quot;https://cdn.jsdelivr.net/npm/bootstrap@5.2.2/dist/js/bootstrap.bundle.min.js&quot;&gt;&lt;/script&gt;\n",
              "    &lt;script src=&quot;https://cdnjs.cloudflare.com/ajax/libs/Leaflet.awesome-markers/2.0.2/leaflet.awesome-markers.js&quot;&gt;&lt;/script&gt;\n",
              "    &lt;link rel=&quot;stylesheet&quot; href=&quot;https://cdn.jsdelivr.net/npm/leaflet@1.9.3/dist/leaflet.css&quot;/&gt;\n",
              "    &lt;link rel=&quot;stylesheet&quot; href=&quot;https://cdn.jsdelivr.net/npm/bootstrap@5.2.2/dist/css/bootstrap.min.css&quot;/&gt;\n",
              "    &lt;link rel=&quot;stylesheet&quot; href=&quot;https://netdna.bootstrapcdn.com/bootstrap/3.0.0/css/bootstrap-glyphicons.css&quot;/&gt;\n",
              "    &lt;link rel=&quot;stylesheet&quot; href=&quot;https://cdn.jsdelivr.net/npm/@fortawesome/fontawesome-free@6.2.0/css/all.min.css&quot;/&gt;\n",
              "    &lt;link rel=&quot;stylesheet&quot; href=&quot;https://cdnjs.cloudflare.com/ajax/libs/Leaflet.awesome-markers/2.0.2/leaflet.awesome-markers.css&quot;/&gt;\n",
              "    &lt;link rel=&quot;stylesheet&quot; href=&quot;https://cdn.jsdelivr.net/gh/python-visualization/folium/folium/templates/leaflet.awesome.rotate.min.css&quot;/&gt;\n",
              "    \n",
              "            &lt;meta name=&quot;viewport&quot; content=&quot;width=device-width,\n",
              "                initial-scale=1.0, maximum-scale=1.0, user-scalable=no&quot; /&gt;\n",
              "            &lt;style&gt;\n",
              "                #map_bd70d2421781f0d74e620278eb7a1f0f {\n",
              "                    position: relative;\n",
              "                    width: 100.0%;\n",
              "                    height: 100.0%;\n",
              "                    left: 0.0%;\n",
              "                    top: 0.0%;\n",
              "                }\n",
              "                .leaflet-container { font-size: 1rem; }\n",
              "            &lt;/style&gt;\n",
              "\n",
              "            &lt;style&gt;html, body {\n",
              "                width: 100%;\n",
              "                height: 100%;\n",
              "                margin: 0;\n",
              "                padding: 0;\n",
              "            }\n",
              "            &lt;/style&gt;\n",
              "\n",
              "            &lt;style&gt;#map {\n",
              "                position:absolute;\n",
              "                top:0;\n",
              "                bottom:0;\n",
              "                right:0;\n",
              "                left:0;\n",
              "                }\n",
              "            &lt;/style&gt;\n",
              "\n",
              "            &lt;script&gt;\n",
              "                L_NO_TOUCH = false;\n",
              "                L_DISABLE_3D = false;\n",
              "            &lt;/script&gt;\n",
              "\n",
              "        \n",
              "    &lt;script src=&quot;https://cdn.jsdelivr.net/gh/ardhi/Leaflet.MousePosition/src/L.Control.MousePosition.min.js&quot;&gt;&lt;/script&gt;\n",
              "    &lt;link rel=&quot;stylesheet&quot; href=&quot;https://cdn.jsdelivr.net/gh/ardhi/Leaflet.MousePosition/src/L.Control.MousePosition.min.css&quot;/&gt;\n",
              "&lt;/head&gt;\n",
              "&lt;body&gt;\n",
              "    \n",
              "    \n",
              "            &lt;div class=&quot;folium-map&quot; id=&quot;map_bd70d2421781f0d74e620278eb7a1f0f&quot; &gt;&lt;/div&gt;\n",
              "        \n",
              "&lt;/body&gt;\n",
              "&lt;script&gt;\n",
              "    \n",
              "    \n",
              "            var map_bd70d2421781f0d74e620278eb7a1f0f = L.map(\n",
              "                &quot;map_bd70d2421781f0d74e620278eb7a1f0f&quot;,\n",
              "                {\n",
              "                    center: [28.56367, -80.57163],\n",
              "                    crs: L.CRS.EPSG3857,\n",
              "                    ...{\n",
              "  &quot;zoom&quot;: 10,\n",
              "  &quot;zoomControl&quot;: true,\n",
              "  &quot;preferCanvas&quot;: false,\n",
              "}\n",
              "\n",
              "                }\n",
              "            );\n",
              "\n",
              "            \n",
              "\n",
              "        \n",
              "    \n",
              "            var tile_layer_fad0ecd05bc6858d7f57db1aead74c85 = L.tileLayer(\n",
              "                &quot;https://tile.openstreetmap.org/{z}/{x}/{y}.png&quot;,\n",
              "                {\n",
              "  &quot;minZoom&quot;: 0,\n",
              "  &quot;maxZoom&quot;: 19,\n",
              "  &quot;maxNativeZoom&quot;: 19,\n",
              "  &quot;noWrap&quot;: false,\n",
              "  &quot;attribution&quot;: &quot;\\u0026copy; \\u003ca href=\\&quot;https://www.openstreetmap.org/copyright\\&quot;\\u003eOpenStreetMap\\u003c/a\\u003e contributors&quot;,\n",
              "  &quot;subdomains&quot;: &quot;abc&quot;,\n",
              "  &quot;detectRetina&quot;: false,\n",
              "  &quot;tms&quot;: false,\n",
              "  &quot;opacity&quot;: 1,\n",
              "}\n",
              "\n",
              "            );\n",
              "        \n",
              "    \n",
              "            tile_layer_fad0ecd05bc6858d7f57db1aead74c85.addTo(map_bd70d2421781f0d74e620278eb7a1f0f);\n",
              "        \n",
              "    \n",
              "            var marker_256f54dc57e8188067557707146fb532 = L.marker(\n",
              "                [28.56367, -80.57163],\n",
              "                {\n",
              "}\n",
              "            ).addTo(map_bd70d2421781f0d74e620278eb7a1f0f);\n",
              "        \n",
              "    \n",
              "            var icon_7535ee37e84bf436bd5d15286cad8c38 = L.AwesomeMarkers.icon(\n",
              "                {\n",
              "  &quot;markerColor&quot;: &quot;red&quot;,\n",
              "  &quot;iconColor&quot;: &quot;white&quot;,\n",
              "  &quot;icon&quot;: &quot;rocket&quot;,\n",
              "  &quot;prefix&quot;: &quot;glyphicon&quot;,\n",
              "  &quot;extraClasses&quot;: &quot;fa-rotate-0&quot;,\n",
              "}\n",
              "            );\n",
              "        \n",
              "    \n",
              "        var popup_f57d6aa93ac7f7345c9f8e7f6186bd3d = L.popup({\n",
              "  &quot;maxWidth&quot;: &quot;100%&quot;,\n",
              "});\n",
              "\n",
              "        \n",
              "            \n",
              "                var html_972a79305ac61d9ab5c91641d714f779 = $(`&lt;div id=&quot;html_972a79305ac61d9ab5c91641d714f779&quot; style=&quot;width: 100.0%; height: 100.0%;&quot;&gt;Launch Site&lt;/div&gt;`)[0];\n",
              "                popup_f57d6aa93ac7f7345c9f8e7f6186bd3d.setContent(html_972a79305ac61d9ab5c91641d714f779);\n",
              "            \n",
              "        \n",
              "\n",
              "        marker_256f54dc57e8188067557707146fb532.bindPopup(popup_f57d6aa93ac7f7345c9f8e7f6186bd3d)\n",
              "        ;\n",
              "\n",
              "        \n",
              "    \n",
              "    \n",
              "                marker_256f54dc57e8188067557707146fb532.setIcon(icon_7535ee37e84bf436bd5d15286cad8c38);\n",
              "            \n",
              "    \n",
              "            var marker_2cc0fc5f30e27e1590f8a5cf05272614 = L.marker(\n",
              "                [28.41, -80.6],\n",
              "                {\n",
              "}\n",
              "            ).addTo(map_bd70d2421781f0d74e620278eb7a1f0f);\n",
              "        \n",
              "    \n",
              "            var icon_750c3cf7011dccd590ee1e26915cb05d = L.AwesomeMarkers.icon(\n",
              "                {\n",
              "  &quot;markerColor&quot;: &quot;blue&quot;,\n",
              "  &quot;iconColor&quot;: &quot;white&quot;,\n",
              "  &quot;icon&quot;: &quot;cloud&quot;,\n",
              "  &quot;prefix&quot;: &quot;glyphicon&quot;,\n",
              "  &quot;extraClasses&quot;: &quot;fa-rotate-0&quot;,\n",
              "}\n",
              "            );\n",
              "        \n",
              "    \n",
              "        var popup_e35dc87dca02d0a4e57163c61bee6bc8 = L.popup({\n",
              "  &quot;maxWidth&quot;: &quot;100%&quot;,\n",
              "});\n",
              "\n",
              "        \n",
              "            \n",
              "                var html_55479328868b50af63885a719e5e609d = $(`&lt;div id=&quot;html_55479328868b50af63885a719e5e609d&quot; style=&quot;width: 100.0%; height: 100.0%;&quot;&gt;Coastline Point&lt;/div&gt;`)[0];\n",
              "                popup_e35dc87dca02d0a4e57163c61bee6bc8.setContent(html_55479328868b50af63885a719e5e609d);\n",
              "            \n",
              "        \n",
              "\n",
              "        marker_2cc0fc5f30e27e1590f8a5cf05272614.bindPopup(popup_e35dc87dca02d0a4e57163c61bee6bc8)\n",
              "        ;\n",
              "\n",
              "        \n",
              "    \n",
              "    \n",
              "                marker_2cc0fc5f30e27e1590f8a5cf05272614.setIcon(icon_750c3cf7011dccd590ee1e26915cb05d);\n",
              "            \n",
              "    \n",
              "            var poly_line_b57d1514aaec6ffd6248664b9c8419a5 = L.polyline(\n",
              "                [[28.56367, -80.57163], [28.41, -80.6]],\n",
              "                {&quot;bubblingMouseEvents&quot;: true, &quot;color&quot;: &quot;blue&quot;, &quot;dashArray&quot;: null, &quot;dashOffset&quot;: null, &quot;fill&quot;: false, &quot;fillColor&quot;: &quot;blue&quot;, &quot;fillOpacity&quot;: 0.2, &quot;fillRule&quot;: &quot;evenodd&quot;, &quot;lineCap&quot;: &quot;round&quot;, &quot;lineJoin&quot;: &quot;round&quot;, &quot;noClip&quot;: false, &quot;opacity&quot;: 1.0, &quot;smoothFactor&quot;: 1.0, &quot;stroke&quot;: true, &quot;weight&quot;: 2}\n",
              "            ).addTo(map_bd70d2421781f0d74e620278eb7a1f0f);\n",
              "        \n",
              "    \n",
              "            var marker_ceea6dc11d1ccfa6525452a5d4308362 = L.marker(\n",
              "                [28.486835, -80.585815],\n",
              "                {\n",
              "}\n",
              "            ).addTo(map_bd70d2421781f0d74e620278eb7a1f0f);\n",
              "        \n",
              "    \n",
              "            var div_icon_ad4619b759e149181ea387941b46c8cf = L.divIcon({\n",
              "  &quot;html&quot;: &quot;\\u003cdiv style=\\&quot;font-size: 12px; color:#d35400;\\&quot;\\u003e\\u003cb\\u003e17.31 KM\\u003c/b\\u003e\\u003c/div\\u003e&quot;,\n",
              "  &quot;iconSize&quot;: [150, 20],\n",
              "  &quot;iconAnchor&quot;: [0, 0],\n",
              "  &quot;className&quot;: &quot;empty&quot;,\n",
              "});\n",
              "        \n",
              "    \n",
              "                marker_ceea6dc11d1ccfa6525452a5d4308362.setIcon(div_icon_ad4619b759e149181ea387941b46c8cf);\n",
              "            \n",
              "    \n",
              "            var mouse_position_c82da41c1f756b97f635ad935a8f4195 = new L.Control.MousePosition(\n",
              "                {\n",
              "  &quot;position&quot;: &quot;topright&quot;,\n",
              "  &quot;separator&quot;: &quot; | &quot;,\n",
              "  &quot;emptyString&quot;: &quot;NaN&quot;,\n",
              "  &quot;lngFirst&quot;: false,\n",
              "  &quot;numDigits&quot;: 5,\n",
              "  &quot;prefix&quot;: &quot;&quot;,\n",
              "}\n",
              "            );\n",
              "            mouse_position_c82da41c1f756b97f635ad935a8f4195.options[&quot;latFormatter&quot;] =\n",
              "                function(num) {return L.Util.formatNum(num, 5);};;\n",
              "            mouse_position_c82da41c1f756b97f635ad935a8f4195.options[&quot;lngFormatter&quot;] =\n",
              "                function(num) {return L.Util.formatNum(num, 5);};;\n",
              "            map_bd70d2421781f0d74e620278eb7a1f0f.addControl(mouse_position_c82da41c1f756b97f635ad935a8f4195);\n",
              "        \n",
              "&lt;/script&gt;\n",
              "&lt;/html&gt;\" style=\"position:absolute;width:100%;height:100%;left:0;top:0;border:none !important;\" allowfullscreen webkitallowfullscreen mozallowfullscreen></iframe></div></div>"
            ],
            "text/plain": [
              "<folium.folium.Map at 0x18f553d44a0>"
            ]
          },
          "execution_count": 23,
          "metadata": {},
          "output_type": "execute_result"
        }
      ],
      "source": [
        "# Create and add a folium.Marker on your selected closest coastline point on the map\n",
        "# Display the distance between coastline point and launch site using the icon property \n",
        "# for example\n",
        "# distance_marker = folium.Marker(\n",
        "#    coordinate,\n",
        "#    icon=DivIcon(\n",
        "#        icon_size=(20,20),\n",
        "#        icon_anchor=(0,0),\n",
        "#        html='<div style=\"font-size: 12; color:#d35400;\"><b>%s</b></div>' % \"{:10.2f} KM\".format(distance),\n",
        "#        )\n",
        "#    )\n",
        "\n",
        "# Hàm tính khoảng cách bằng Haversine\n",
        "def haversine_distance(lat1, lon1, lat2, lon2):\n",
        "    R = 6371.0  # bán kính Trái đất (km)\n",
        "    lat1, lon1, lat2, lon2 = map(math.radians, [lat1, lon1, lat2, lon2])\n",
        "    dlat = lat2 - lat1\n",
        "    dlon = lon2 - lon1\n",
        "    a = math.sin(dlat/2)**2 + math.cos(lat1)*math.cos(lat2)*math.sin(dlon/2)**2\n",
        "    c = 2 * math.asin(math.sqrt(a))\n",
        "    return R * c\n",
        "\n",
        "# Tọa độ launch site\n",
        "launch_site_lat, launch_site_lon = 28.56367, -80.57163\n",
        "\n",
        "# Ví dụ: tọa độ coastline (bạn copy từ MousePosition plugin)\n",
        "coastline_lat, coastline_lon = 28.4100, -80.6000\n",
        "\n",
        "# Tính khoảng cách\n",
        "distance = haversine_distance(launch_site_lat, launch_site_lon,\n",
        "                              coastline_lat, coastline_lon)\n",
        "\n",
        "# Tạo map\n",
        "site_map = folium.Map(location=[launch_site_lat, launch_site_lon], zoom_start=10)\n",
        "\n",
        "# Marker launch site\n",
        "folium.Marker(\n",
        "    [launch_site_lat, launch_site_lon],\n",
        "    popup=\"Launch Site\",\n",
        "    icon=folium.Icon(color=\"red\", icon=\"rocket\")\n",
        ").add_to(site_map)\n",
        "\n",
        "# Marker coastline\n",
        "folium.Marker(\n",
        "    [coastline_lat, coastline_lon],\n",
        "    popup=\"Coastline Point\",\n",
        "    icon=folium.Icon(color=\"blue\", icon=\"cloud\")\n",
        ").add_to(site_map)\n",
        "\n",
        "# Vẽ đường nối\n",
        "folium.PolyLine(\n",
        "    locations=[(launch_site_lat, launch_site_lon), (coastline_lat, coastline_lon)],\n",
        "    color=\"blue\", weight=2\n",
        ").add_to(site_map)\n",
        "\n",
        "# Marker hiển thị khoảng cách bằng DivIcon\n",
        "distance_marker = folium.Marker(\n",
        "    [(launch_site_lat + coastline_lat)/2, (launch_site_lon + coastline_lon)/2],  # vị trí giữa 2 điểm\n",
        "    icon=DivIcon(\n",
        "        icon_size=(150, 20),\n",
        "        icon_anchor=(0, 0),\n",
        "        html='<div style=\"font-size: 12px; color:#d35400;\"><b>{:.2f} KM</b></div>'.format(distance),\n",
        "    )\n",
        ").add_to(site_map)\n",
        "\n",
        "# Thêm plugin MousePosition để chọn điểm thủ công trên map\n",
        "formatter = \"function(num) {return L.Util.formatNum(num, 5);};\"\n",
        "MousePosition(\n",
        "    position=\"topright\",\n",
        "    separator=\" | \",\n",
        "    empty_string=\"NaN\",\n",
        "    lng_formatter=formatter,\n",
        "    lat_formatter=formatter,\n",
        ").add_to(site_map)\n",
        "\n",
        "site_map\n"
      ]
    },
    {
      "cell_type": "markdown",
      "metadata": {},
      "source": [
        "*TODO:* Draw a `PolyLine` between a launch site to the selected coastline point\n"
      ]
    },
    {
      "cell_type": "code",
      "execution_count": 26,
      "metadata": {},
      "outputs": [
        {
          "data": {
            "text/html": [
              "<div style=\"width:100%;\"><div style=\"position:relative;width:100%;height:0;padding-bottom:60%;\"><span style=\"color:#565656\">Make this Notebook Trusted to load map: File -> Trust Notebook</span><iframe srcdoc=\"&lt;!DOCTYPE html&gt;\n",
              "&lt;html&gt;\n",
              "&lt;head&gt;\n",
              "    \n",
              "    &lt;meta http-equiv=&quot;content-type&quot; content=&quot;text/html; charset=UTF-8&quot; /&gt;\n",
              "    &lt;script src=&quot;https://cdn.jsdelivr.net/npm/leaflet@1.9.3/dist/leaflet.js&quot;&gt;&lt;/script&gt;\n",
              "    &lt;script src=&quot;https://code.jquery.com/jquery-3.7.1.min.js&quot;&gt;&lt;/script&gt;\n",
              "    &lt;script src=&quot;https://cdn.jsdelivr.net/npm/bootstrap@5.2.2/dist/js/bootstrap.bundle.min.js&quot;&gt;&lt;/script&gt;\n",
              "    &lt;script src=&quot;https://cdnjs.cloudflare.com/ajax/libs/Leaflet.awesome-markers/2.0.2/leaflet.awesome-markers.js&quot;&gt;&lt;/script&gt;\n",
              "    &lt;link rel=&quot;stylesheet&quot; href=&quot;https://cdn.jsdelivr.net/npm/leaflet@1.9.3/dist/leaflet.css&quot;/&gt;\n",
              "    &lt;link rel=&quot;stylesheet&quot; href=&quot;https://cdn.jsdelivr.net/npm/bootstrap@5.2.2/dist/css/bootstrap.min.css&quot;/&gt;\n",
              "    &lt;link rel=&quot;stylesheet&quot; href=&quot;https://netdna.bootstrapcdn.com/bootstrap/3.0.0/css/bootstrap-glyphicons.css&quot;/&gt;\n",
              "    &lt;link rel=&quot;stylesheet&quot; href=&quot;https://cdn.jsdelivr.net/npm/@fortawesome/fontawesome-free@6.2.0/css/all.min.css&quot;/&gt;\n",
              "    &lt;link rel=&quot;stylesheet&quot; href=&quot;https://cdnjs.cloudflare.com/ajax/libs/Leaflet.awesome-markers/2.0.2/leaflet.awesome-markers.css&quot;/&gt;\n",
              "    &lt;link rel=&quot;stylesheet&quot; href=&quot;https://cdn.jsdelivr.net/gh/python-visualization/folium/folium/templates/leaflet.awesome.rotate.min.css&quot;/&gt;\n",
              "    \n",
              "            &lt;meta name=&quot;viewport&quot; content=&quot;width=device-width,\n",
              "                initial-scale=1.0, maximum-scale=1.0, user-scalable=no&quot; /&gt;\n",
              "            &lt;style&gt;\n",
              "                #map_bd70d2421781f0d74e620278eb7a1f0f {\n",
              "                    position: relative;\n",
              "                    width: 100.0%;\n",
              "                    height: 100.0%;\n",
              "                    left: 0.0%;\n",
              "                    top: 0.0%;\n",
              "                }\n",
              "                .leaflet-container { font-size: 1rem; }\n",
              "            &lt;/style&gt;\n",
              "\n",
              "            &lt;style&gt;html, body {\n",
              "                width: 100%;\n",
              "                height: 100%;\n",
              "                margin: 0;\n",
              "                padding: 0;\n",
              "            }\n",
              "            &lt;/style&gt;\n",
              "\n",
              "            &lt;style&gt;#map {\n",
              "                position:absolute;\n",
              "                top:0;\n",
              "                bottom:0;\n",
              "                right:0;\n",
              "                left:0;\n",
              "                }\n",
              "            &lt;/style&gt;\n",
              "\n",
              "            &lt;script&gt;\n",
              "                L_NO_TOUCH = false;\n",
              "                L_DISABLE_3D = false;\n",
              "            &lt;/script&gt;\n",
              "\n",
              "        \n",
              "    &lt;script src=&quot;https://cdn.jsdelivr.net/gh/ardhi/Leaflet.MousePosition/src/L.Control.MousePosition.min.js&quot;&gt;&lt;/script&gt;\n",
              "    &lt;link rel=&quot;stylesheet&quot; href=&quot;https://cdn.jsdelivr.net/gh/ardhi/Leaflet.MousePosition/src/L.Control.MousePosition.min.css&quot;/&gt;\n",
              "&lt;/head&gt;\n",
              "&lt;body&gt;\n",
              "    \n",
              "    \n",
              "            &lt;div class=&quot;folium-map&quot; id=&quot;map_bd70d2421781f0d74e620278eb7a1f0f&quot; &gt;&lt;/div&gt;\n",
              "        \n",
              "&lt;/body&gt;\n",
              "&lt;script&gt;\n",
              "    \n",
              "    \n",
              "            var map_bd70d2421781f0d74e620278eb7a1f0f = L.map(\n",
              "                &quot;map_bd70d2421781f0d74e620278eb7a1f0f&quot;,\n",
              "                {\n",
              "                    center: [28.56367, -80.57163],\n",
              "                    crs: L.CRS.EPSG3857,\n",
              "                    ...{\n",
              "  &quot;zoom&quot;: 10,\n",
              "  &quot;zoomControl&quot;: true,\n",
              "  &quot;preferCanvas&quot;: false,\n",
              "}\n",
              "\n",
              "                }\n",
              "            );\n",
              "\n",
              "            \n",
              "\n",
              "        \n",
              "    \n",
              "            var tile_layer_fad0ecd05bc6858d7f57db1aead74c85 = L.tileLayer(\n",
              "                &quot;https://tile.openstreetmap.org/{z}/{x}/{y}.png&quot;,\n",
              "                {\n",
              "  &quot;minZoom&quot;: 0,\n",
              "  &quot;maxZoom&quot;: 19,\n",
              "  &quot;maxNativeZoom&quot;: 19,\n",
              "  &quot;noWrap&quot;: false,\n",
              "  &quot;attribution&quot;: &quot;\\u0026copy; \\u003ca href=\\&quot;https://www.openstreetmap.org/copyright\\&quot;\\u003eOpenStreetMap\\u003c/a\\u003e contributors&quot;,\n",
              "  &quot;subdomains&quot;: &quot;abc&quot;,\n",
              "  &quot;detectRetina&quot;: false,\n",
              "  &quot;tms&quot;: false,\n",
              "  &quot;opacity&quot;: 1,\n",
              "}\n",
              "\n",
              "            );\n",
              "        \n",
              "    \n",
              "            tile_layer_fad0ecd05bc6858d7f57db1aead74c85.addTo(map_bd70d2421781f0d74e620278eb7a1f0f);\n",
              "        \n",
              "    \n",
              "            var marker_256f54dc57e8188067557707146fb532 = L.marker(\n",
              "                [28.56367, -80.57163],\n",
              "                {\n",
              "}\n",
              "            ).addTo(map_bd70d2421781f0d74e620278eb7a1f0f);\n",
              "        \n",
              "    \n",
              "            var icon_7535ee37e84bf436bd5d15286cad8c38 = L.AwesomeMarkers.icon(\n",
              "                {\n",
              "  &quot;markerColor&quot;: &quot;red&quot;,\n",
              "  &quot;iconColor&quot;: &quot;white&quot;,\n",
              "  &quot;icon&quot;: &quot;rocket&quot;,\n",
              "  &quot;prefix&quot;: &quot;glyphicon&quot;,\n",
              "  &quot;extraClasses&quot;: &quot;fa-rotate-0&quot;,\n",
              "}\n",
              "            );\n",
              "        \n",
              "    \n",
              "        var popup_f57d6aa93ac7f7345c9f8e7f6186bd3d = L.popup({\n",
              "  &quot;maxWidth&quot;: &quot;100%&quot;,\n",
              "});\n",
              "\n",
              "        \n",
              "            \n",
              "                var html_972a79305ac61d9ab5c91641d714f779 = $(`&lt;div id=&quot;html_972a79305ac61d9ab5c91641d714f779&quot; style=&quot;width: 100.0%; height: 100.0%;&quot;&gt;Launch Site&lt;/div&gt;`)[0];\n",
              "                popup_f57d6aa93ac7f7345c9f8e7f6186bd3d.setContent(html_972a79305ac61d9ab5c91641d714f779);\n",
              "            \n",
              "        \n",
              "\n",
              "        marker_256f54dc57e8188067557707146fb532.bindPopup(popup_f57d6aa93ac7f7345c9f8e7f6186bd3d)\n",
              "        ;\n",
              "\n",
              "        \n",
              "    \n",
              "    \n",
              "                marker_256f54dc57e8188067557707146fb532.setIcon(icon_7535ee37e84bf436bd5d15286cad8c38);\n",
              "            \n",
              "    \n",
              "            var marker_2cc0fc5f30e27e1590f8a5cf05272614 = L.marker(\n",
              "                [28.41, -80.6],\n",
              "                {\n",
              "}\n",
              "            ).addTo(map_bd70d2421781f0d74e620278eb7a1f0f);\n",
              "        \n",
              "    \n",
              "            var icon_750c3cf7011dccd590ee1e26915cb05d = L.AwesomeMarkers.icon(\n",
              "                {\n",
              "  &quot;markerColor&quot;: &quot;blue&quot;,\n",
              "  &quot;iconColor&quot;: &quot;white&quot;,\n",
              "  &quot;icon&quot;: &quot;cloud&quot;,\n",
              "  &quot;prefix&quot;: &quot;glyphicon&quot;,\n",
              "  &quot;extraClasses&quot;: &quot;fa-rotate-0&quot;,\n",
              "}\n",
              "            );\n",
              "        \n",
              "    \n",
              "        var popup_e35dc87dca02d0a4e57163c61bee6bc8 = L.popup({\n",
              "  &quot;maxWidth&quot;: &quot;100%&quot;,\n",
              "});\n",
              "\n",
              "        \n",
              "            \n",
              "                var html_55479328868b50af63885a719e5e609d = $(`&lt;div id=&quot;html_55479328868b50af63885a719e5e609d&quot; style=&quot;width: 100.0%; height: 100.0%;&quot;&gt;Coastline Point&lt;/div&gt;`)[0];\n",
              "                popup_e35dc87dca02d0a4e57163c61bee6bc8.setContent(html_55479328868b50af63885a719e5e609d);\n",
              "            \n",
              "        \n",
              "\n",
              "        marker_2cc0fc5f30e27e1590f8a5cf05272614.bindPopup(popup_e35dc87dca02d0a4e57163c61bee6bc8)\n",
              "        ;\n",
              "\n",
              "        \n",
              "    \n",
              "    \n",
              "                marker_2cc0fc5f30e27e1590f8a5cf05272614.setIcon(icon_750c3cf7011dccd590ee1e26915cb05d);\n",
              "            \n",
              "    \n",
              "            var poly_line_b57d1514aaec6ffd6248664b9c8419a5 = L.polyline(\n",
              "                [[28.56367, -80.57163], [28.41, -80.6]],\n",
              "                {&quot;bubblingMouseEvents&quot;: true, &quot;color&quot;: &quot;blue&quot;, &quot;dashArray&quot;: null, &quot;dashOffset&quot;: null, &quot;fill&quot;: false, &quot;fillColor&quot;: &quot;blue&quot;, &quot;fillOpacity&quot;: 0.2, &quot;fillRule&quot;: &quot;evenodd&quot;, &quot;lineCap&quot;: &quot;round&quot;, &quot;lineJoin&quot;: &quot;round&quot;, &quot;noClip&quot;: false, &quot;opacity&quot;: 1.0, &quot;smoothFactor&quot;: 1.0, &quot;stroke&quot;: true, &quot;weight&quot;: 2}\n",
              "            ).addTo(map_bd70d2421781f0d74e620278eb7a1f0f);\n",
              "        \n",
              "    \n",
              "            var marker_ceea6dc11d1ccfa6525452a5d4308362 = L.marker(\n",
              "                [28.486835, -80.585815],\n",
              "                {\n",
              "}\n",
              "            ).addTo(map_bd70d2421781f0d74e620278eb7a1f0f);\n",
              "        \n",
              "    \n",
              "            var div_icon_ad4619b759e149181ea387941b46c8cf = L.divIcon({\n",
              "  &quot;html&quot;: &quot;\\u003cdiv style=\\&quot;font-size: 12px; color:#d35400;\\&quot;\\u003e\\u003cb\\u003e17.31 KM\\u003c/b\\u003e\\u003c/div\\u003e&quot;,\n",
              "  &quot;iconSize&quot;: [150, 20],\n",
              "  &quot;iconAnchor&quot;: [0, 0],\n",
              "  &quot;className&quot;: &quot;empty&quot;,\n",
              "});\n",
              "        \n",
              "    \n",
              "                marker_ceea6dc11d1ccfa6525452a5d4308362.setIcon(div_icon_ad4619b759e149181ea387941b46c8cf);\n",
              "            \n",
              "    \n",
              "            var mouse_position_c82da41c1f756b97f635ad935a8f4195 = new L.Control.MousePosition(\n",
              "                {\n",
              "  &quot;position&quot;: &quot;topright&quot;,\n",
              "  &quot;separator&quot;: &quot; | &quot;,\n",
              "  &quot;emptyString&quot;: &quot;NaN&quot;,\n",
              "  &quot;lngFirst&quot;: false,\n",
              "  &quot;numDigits&quot;: 5,\n",
              "  &quot;prefix&quot;: &quot;&quot;,\n",
              "}\n",
              "            );\n",
              "            mouse_position_c82da41c1f756b97f635ad935a8f4195.options[&quot;latFormatter&quot;] =\n",
              "                function(num) {return L.Util.formatNum(num, 5);};;\n",
              "            mouse_position_c82da41c1f756b97f635ad935a8f4195.options[&quot;lngFormatter&quot;] =\n",
              "                function(num) {return L.Util.formatNum(num, 5);};;\n",
              "            map_bd70d2421781f0d74e620278eb7a1f0f.addControl(mouse_position_c82da41c1f756b97f635ad935a8f4195);\n",
              "        \n",
              "    \n",
              "            tile_layer_fad0ecd05bc6858d7f57db1aead74c85.addTo(map_bd70d2421781f0d74e620278eb7a1f0f);\n",
              "        \n",
              "    \n",
              "                marker_256f54dc57e8188067557707146fb532.setIcon(icon_7535ee37e84bf436bd5d15286cad8c38);\n",
              "            \n",
              "    \n",
              "                marker_2cc0fc5f30e27e1590f8a5cf05272614.setIcon(icon_750c3cf7011dccd590ee1e26915cb05d);\n",
              "            \n",
              "    \n",
              "                marker_ceea6dc11d1ccfa6525452a5d4308362.setIcon(div_icon_ad4619b759e149181ea387941b46c8cf);\n",
              "            \n",
              "    \n",
              "            var poly_line_54939d50a3c670b957b1a216bd08baed = L.polyline(\n",
              "                [[28.56367, -80.57163], [28.41, -80.6]],\n",
              "                {&quot;bubblingMouseEvents&quot;: true, &quot;color&quot;: &quot;#3388ff&quot;, &quot;dashArray&quot;: null, &quot;dashOffset&quot;: null, &quot;fill&quot;: false, &quot;fillColor&quot;: &quot;#3388ff&quot;, &quot;fillOpacity&quot;: 0.2, &quot;fillRule&quot;: &quot;evenodd&quot;, &quot;lineCap&quot;: &quot;round&quot;, &quot;lineJoin&quot;: &quot;round&quot;, &quot;noClip&quot;: false, &quot;opacity&quot;: 1.0, &quot;smoothFactor&quot;: 1.0, &quot;stroke&quot;: true, &quot;weight&quot;: 1}\n",
              "            ).addTo(map_bd70d2421781f0d74e620278eb7a1f0f);\n",
              "        \n",
              "    \n",
              "            tile_layer_fad0ecd05bc6858d7f57db1aead74c85.addTo(map_bd70d2421781f0d74e620278eb7a1f0f);\n",
              "        \n",
              "    \n",
              "                marker_256f54dc57e8188067557707146fb532.setIcon(icon_7535ee37e84bf436bd5d15286cad8c38);\n",
              "            \n",
              "    \n",
              "                marker_2cc0fc5f30e27e1590f8a5cf05272614.setIcon(icon_750c3cf7011dccd590ee1e26915cb05d);\n",
              "            \n",
              "    \n",
              "                marker_ceea6dc11d1ccfa6525452a5d4308362.setIcon(div_icon_ad4619b759e149181ea387941b46c8cf);\n",
              "            \n",
              "    \n",
              "            var poly_line_721dd2c59a6681906590a105695f8f31 = L.polyline(\n",
              "                [[28.56367, -80.57163], [28.41, -80.6]],\n",
              "                {&quot;bubblingMouseEvents&quot;: true, &quot;color&quot;: &quot;#3388ff&quot;, &quot;dashArray&quot;: null, &quot;dashOffset&quot;: null, &quot;fill&quot;: false, &quot;fillColor&quot;: &quot;#3388ff&quot;, &quot;fillOpacity&quot;: 0.2, &quot;fillRule&quot;: &quot;evenodd&quot;, &quot;lineCap&quot;: &quot;round&quot;, &quot;lineJoin&quot;: &quot;round&quot;, &quot;noClip&quot;: false, &quot;opacity&quot;: 1.0, &quot;smoothFactor&quot;: 1.0, &quot;stroke&quot;: true, &quot;weight&quot;: 1}\n",
              "            ).addTo(map_bd70d2421781f0d74e620278eb7a1f0f);\n",
              "        \n",
              "&lt;/script&gt;\n",
              "&lt;/html&gt;\" style=\"position:absolute;width:100%;height:100%;left:0;top:0;border:none !important;\" allowfullscreen webkitallowfullscreen mozallowfullscreen></iframe></div></div>"
            ],
            "text/plain": [
              "<folium.folium.Map at 0x18f553d44a0>"
            ]
          },
          "execution_count": 26,
          "metadata": {},
          "output_type": "execute_result"
        }
      ],
      "source": [
        "# Create a `folium.PolyLine` object using the coastline coordinates and launch site coordinate\n",
        "coordinates = [\n",
        "    [launch_site_lat, launch_site_lon],\n",
        "    [coastline_lat, coastline_lon]\n",
        "]\n",
        "\n",
        "lines=folium.PolyLine(locations=coordinates, weight=1)\n",
        "site_map.add_child(lines)"
      ]
    },
    {
      "cell_type": "markdown",
      "metadata": {},
      "source": [
        "Your updated map with distance line should look like the following screenshot:\n"
      ]
    },
    {
      "cell_type": "markdown",
      "metadata": {},
      "source": [
        "<center>\n",
        "    <img src=\"https://cf-courses-data.s3.us.cloud-object-storage.appdomain.cloud/IBM-DS0321EN-SkillsNetwork/labs/module_3/images/launch_site_marker_distance.png\">\n",
        "</center>\n"
      ]
    },
    {
      "cell_type": "markdown",
      "metadata": {},
      "source": [
        "*TODO:* Similarly, you can draw a line betwee a launch site to its closest city, railway, highway, etc. You need to use `MousePosition` to find the their coordinates on the map first\n"
      ]
    },
    {
      "cell_type": "markdown",
      "metadata": {},
      "source": [
        "A railway map symbol may look like this:\n"
      ]
    },
    {
      "cell_type": "markdown",
      "metadata": {},
      "source": [
        "<center>\n",
        "    <img src=\"https://cf-courses-data.s3.us.cloud-object-storage.appdomain.cloud/IBM-DS0321EN-SkillsNetwork/labs/module_3/images/railway.png\">\n",
        "</center>\n"
      ]
    },
    {
      "cell_type": "markdown",
      "metadata": {},
      "source": [
        "A highway map symbol may look like this:\n"
      ]
    },
    {
      "cell_type": "markdown",
      "metadata": {},
      "source": [
        "<center>\n",
        "    <img src=\"https://cf-courses-data.s3.us.cloud-object-storage.appdomain.cloud/IBM-DS0321EN-SkillsNetwork/labs/module_3/images/highway.png\">\n",
        "</center>\n"
      ]
    },
    {
      "cell_type": "markdown",
      "metadata": {},
      "source": [
        "A city map symbol may look like this:\n"
      ]
    },
    {
      "cell_type": "markdown",
      "metadata": {},
      "source": [
        "<center>\n",
        "    <img src=\"https://cf-courses-data.s3.us.cloud-object-storage.appdomain.cloud/IBM-DS0321EN-SkillsNetwork/labs/module_3/images/city.png\">\n",
        "</center>\n"
      ]
    },
    {
      "cell_type": "code",
      "execution_count": null,
      "metadata": {},
      "outputs": [],
      "source": [
        "# Create a marker with distance to a closest city, railway, highway, etc.\n",
        "# Draw a line between the marker to the launch site\n"
      ]
    },
    {
      "cell_type": "code",
      "execution_count": null,
      "metadata": {},
      "outputs": [],
      "source": []
    },
    {
      "cell_type": "code",
      "execution_count": null,
      "metadata": {},
      "outputs": [],
      "source": []
    },
    {
      "cell_type": "markdown",
      "metadata": {},
      "source": [
        "After you plot distance lines to the proximities, you can answer the following questions easily:\n",
        "\n",
        "*   Are launch sites in close proximity to railways?\n",
        "*   Are launch sites in close proximity to highways?\n",
        "*   Are launch sites in close proximity to coastline?\n",
        "*   Do launch sites keep certain distance away from cities?\n",
        "\n",
        "Also please try to explain your findings.\n"
      ]
    },
    {
      "cell_type": "markdown",
      "metadata": {},
      "source": [
        "# Next Steps:\n",
        "\n",
        "Now you have discovered many interesting insights related to the launch sites' location using folium, in a very interactive way. Next, you will need to build a dashboard using Ploty Dash on detailed launch records.\n"
      ]
    },
    {
      "cell_type": "markdown",
      "metadata": {},
      "source": [
        "## Authors\n"
      ]
    },
    {
      "cell_type": "markdown",
      "metadata": {},
      "source": [
        "[Pratiksha Verma](https://www.linkedin.com/in/pratiksha-verma-6487561b1/)\n"
      ]
    },
    {
      "cell_type": "markdown",
      "metadata": {},
      "source": [
        "<!--## Change Log--!>\n"
      ]
    },
    {
      "cell_type": "markdown",
      "metadata": {},
      "source": [
        "<!--| Date (YYYY-MM-DD) | Version | Changed By      | Change Description      |\n",
        "| ----------------- | ------- | -------------   | ----------------------- |\n",
        "| 2022-11-09        | 1.0     | Pratiksha Verma | Converted initial version to Jupyterlite|--!>\n"
      ]
    },
    {
      "cell_type": "markdown",
      "metadata": {},
      "source": [
        "### <h3 align=\"center\"> IBM Corporation 2022. All rights reserved. <h3/>\n"
      ]
    }
  ],
  "metadata": {
    "kernelspec": {
      "display_name": "Python 3",
      "language": "python",
      "name": "python3"
    },
    "language_info": {
      "codemirror_mode": {
        "name": "ipython",
        "version": 3
      },
      "file_extension": ".py",
      "mimetype": "text/x-python",
      "name": "python",
      "nbconvert_exporter": "python",
      "pygments_lexer": "ipython3",
      "version": "3.12.6"
    },
    "prev_pub_hash": "0f9db842b41c859223722809f8be602f5df9334348bd206b11e3af58c30eb345"
  },
  "nbformat": 4,
  "nbformat_minor": 4
}
